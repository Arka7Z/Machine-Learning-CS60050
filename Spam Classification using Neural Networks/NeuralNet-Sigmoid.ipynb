{
 "cells": [
  {
   "cell_type": "code",
   "execution_count": 1,
   "metadata": {
    "collapsed": true
   },
   "outputs": [],
   "source": [
    "from __future__ import division\n",
    "from nltk.stem import WordNetLemmatizer\n",
    "from nltk.corpus import stopwords\n",
    "from sklearn.utils import shuffle\n",
    "from sklearn.metrics import accuracy_score\n",
    "from sklearn.metrics import precision_recall_fscore_support\n",
    "from scipy.special import expit\n",
    "import random\n",
    "from random import randint\n",
    "import nltk\n",
    "import numpy as np\n",
    "import pandas as pd\n",
    "import csv\n",
    "import matplotlib.pyplot as plt\n",
    "import time\n",
    "%matplotlib inline\n",
    "\n",
    "wordnet_lemmatizer = WordNetLemmatizer()"
   ]
  },
  {
   "cell_type": "code",
   "execution_count": 2,
   "metadata": {
    "collapsed": true
   },
   "outputs": [],
   "source": [
    "def plot_cost(iter_list,cost_list):\n",
    "    plt.plot(iter_list,cost_list,'r.')\n",
    "    plt.xlabel('Iterations ->')\n",
    "    plt.ylabel('Cost')\n",
    "    plt.show()\n",
    "def plot_together(iter_list,cost_list,test_list):\n",
    "    plt.plot(iter_list,cost_list,'r--',label='Training(In-sample) Error')\n",
    "    plt.plot(iter_list,test_list,'b--',label='Test(Out-of-sample) Error')\n",
    "    plt.legend()\n",
    "    plt.xlabel('Iterations ->')\n",
    "    plt.ylabel('Cost')\n",
    "    plt.show()"
   ]
  },
  {
   "cell_type": "code",
   "execution_count": 3,
   "metadata": {
    "collapsed": true
   },
   "outputs": [],
   "source": [
    "def sigmoid(x):\n",
    "    return expit(x)\n",
    "def tanh(x):\n",
    "    return np.tanh(x)\n"
   ]
  },
  {
   "cell_type": "code",
   "execution_count": 4,
   "metadata": {
    "collapsed": true
   },
   "outputs": [],
   "source": [
    "def activation_func(z,func='sigmoid'):\n",
    "    if(func=='sigmoid'):\n",
    "        return sigmoid(z)\n",
    "    else:\n",
    "        return tanh(z)"
   ]
  },
  {
   "cell_type": "code",
   "execution_count": 5,
   "metadata": {
    "collapsed": true
   },
   "outputs": [],
   "source": [
    "def derivative_sigmoid(z):\n",
    "    g_z=sigmoid(z)\n",
    "    return g_z*(1-g_z)\n",
    "def derivative_tanh(z):\n",
    "    g_z=tanh(z)\n",
    "    return (1-g_z*g_z)"
   ]
  },
  {
   "cell_type": "code",
   "execution_count": 6,
   "metadata": {
    "collapsed": true
   },
   "outputs": [],
   "source": [
    "def mse(Y,Y_pred):\n",
    "    m=len(Y)\n",
    "    J = np.sum((Y_pred - Y) ** 2)/(2 * m)\n",
    "    return J"
   ]
  },
  {
   "cell_type": "code",
   "execution_count": 7,
   "metadata": {
    "collapsed": true
   },
   "outputs": [],
   "source": [
    "def predict(W,b,X,dim):\n",
    "    y_pred=list()\n",
    "    L=len(dim)-1\n",
    "    N=len(X)\n",
    "    threshold=0.6\n",
    "    a=dict()\n",
    "    z=dict()\n",
    "    \n",
    "    for i in range(1,L+1):\n",
    "        a[i]=np.empty(shape=[1,dim[i]])\n",
    "        z[i]=np.empty(shape=[1,dim[i]])\n",
    "        \n",
    "        \n",
    "    for n in range(N):\n",
    "    # Init a[0]=x_sel,y=corresponding_y\n",
    "        a[0]=X[n]\n",
    "        y=Y[n]\n",
    "        # Forward Pass\n",
    "        for l in range(1,L+1):\n",
    "            z[l]=a[l-1].dot(W[l])+b[l]\n",
    "            a[l]=activation_func(z[l])\n",
    "        if(a[L]>threshold):\n",
    "            a[L]=-1.0\n",
    "        else:\n",
    "            a[L]=1.0\n",
    "        y_pred.append(a[L])\n",
    "    y_pred=np.asarray(y_pred)\n",
    "    return y_pred"
   ]
  },
  {
   "cell_type": "code",
   "execution_count": 24,
   "metadata": {
    "collapsed": true
   },
   "outputs": [],
   "source": [
    "def neural_network(learning_rate,dim,n_epoch,activation_func_name,train_X,train_Y,test_X,test_Y):\n",
    "    L=len(dim)-1\n",
    "    threshold=0.6\n",
    "    W=dict()\n",
    "    b=dict()\n",
    "    a=dict()\n",
    "    z=dict()\n",
    "    delta=dict()\n",
    "    \n",
    "    tolerance=1e-5\n",
    "    lambda_reg=0.002\n",
    "    cost_old=999999\n",
    "    keep_prob=0.95\n",
    "    \n",
    "    N=len(train_X)\n",
    "    a[0]=np.empty(shape=[1,dim[0]])\n",
    "    \n",
    "    for i in range(1,L+1):\n",
    "        W[i]=np.random.randn(dim[i-1],dim[i])/np.sqrt(dim[i-1])\n",
    "        b[i]=np.random.randn(1,dim[i])/np.sqrt(dim[i])\n",
    "\n",
    "        \n",
    "    cost_list=list()  \n",
    "    test_set_cost_list=list()\n",
    "    iter_list=list()\n",
    "    iter_count=0\n",
    "    \n",
    "    for epoch in range(n_epoch):\n",
    "        print(\"Epoch \",epoch)\n",
    "        z=zip(train_X,train_Y)\n",
    "        random.shuffle(z)\n",
    "        train_X,train_Y=zip(*z)\n",
    "        for n in range(N):\n",
    "\n",
    "            # Init a[0]=x_sel,y=corresponding_y\n",
    "            a[0]=train_X[n]\n",
    "            y=train_Y[n]\n",
    "\n",
    "            # Forward Pass\n",
    "            for l in range(1,L+1):\n",
    "                z[l]=a[l-1].dot(W[l])+b[l]\n",
    "                a[l]=activation_func(z[l])\n",
    "                mask=(np.random.rand(*a[l].shape) < keep_prob)/keep_prob\n",
    "                if(l!=L):\n",
    "                    a[l]*= mask\n",
    "\n",
    "            if(a[L]>threshold):\n",
    "                a[L]=-1.0                # SPAM\n",
    "            else:\n",
    "                a[L]=1.0\n",
    "                \n",
    "            # Backward Pass\n",
    "            delta[L]=(2*(y-a[L]))*derivative_sigmoid(z[L])\n",
    "            for l in range(L-1,0,-1):\n",
    "                tmp=np.asarray(np.dot(W[l+1],delta[l+1]))\n",
    "                delta[l]=np.asarray(np.asarray(derivative_sigmoid(z[l])).T*tmp)\n",
    "\n",
    "            # Update weights\n",
    "            for l in range(1,L+1):\n",
    "                W[l]=W[l]-learning_rate*(delta[l]*a[l-1]).T\n",
    "                #W[l]=(1-learning_rate*lambda_reg)*W[l]-learning_rate*(delta[l]*a[l-1]).T\n",
    "                b[l]-=learning_rate*(delta[l]).T\n",
    "\n",
    "            if(iter_count%2000==0):\n",
    "                cost=mse(train_Y,predict(W,b,train_X,dim))\n",
    "                test_cost=mse(test_Y,predict(W,b,test_X,dim))\n",
    "                test_set_cost_list.append(test_cost)\n",
    "                cost_list.append(cost)\n",
    "                iter_list.append(iter_count)\n",
    "            iter_count+=1\n",
    "    return cost_list,test_set_cost_list,iter_list,W,b\n",
    "\n",
    "    "
   ]
  },
  {
   "cell_type": "code",
   "execution_count": 9,
   "metadata": {
    "collapsed": true
   },
   "outputs": [],
   "source": [
    "def get_data():\n",
    "    messages =pd.read_csv('Assignment_2_data.txt', sep='\\t', quoting=csv.QUOTE_NONE,names=[\"label\", \"message\"],encoding='utf8')\n",
    "    word_index=dict()\n",
    "    messages=shuffle(messages)\n",
    "    vocab=0\n",
    "    for index,rows in messages.iterrows():\n",
    "        sentence=rows['message']\n",
    "        tokens = nltk.word_tokenize(sentence)\n",
    "        tokens=[w for w in tokens if not w in stopwords.words('english')]\n",
    "        tokens=[token.lower() for token in tokens]\n",
    "        wordset=[wordnet_lemmatizer.lemmatize(token) for token in tokens]\n",
    "        wordset=list(set(wordset))\n",
    "        for word in wordset:\n",
    "            if not word in word_index:\n",
    "                word_index[word]=vocab\n",
    "                vocab+=1\n",
    "    X=list()\n",
    "    Y=list()\n",
    "    for index,rows in messages.iterrows():\n",
    "        sentence=rows['message']\n",
    "        tokens = nltk.word_tokenize(sentence)\n",
    "        tokens=[w for w in tokens if not w in stopwords.words('english')]\n",
    "        tokens=[token.lower() for token in tokens]\n",
    "        wordset=[wordnet_lemmatizer.lemmatize(token) for token in tokens]\n",
    "        wordset=list(set(wordset))\n",
    "        tmp_list=[0.0]*vocab\n",
    "        #print(wordset)\n",
    "        for word in wordset:\n",
    "            tmp_list[word_index[word]]=1.0\n",
    "        if (rows['label']=='ham'):\n",
    "            Y.append(1.0)\n",
    "        else:\n",
    "            Y.append(-1.0)\n",
    "        X.append(tmp_list)\n",
    "    X=np.array(X)\n",
    "    Y=np.array(Y)\n",
    "    data=pd.DataFrame(X) \n",
    "    data['Y']=Y\n",
    "    return X,Y,vocab,data,messages\n",
    "            \n",
    "        \n",
    "    \n",
    "    "
   ]
  },
  {
   "cell_type": "code",
   "execution_count": 10,
   "metadata": {
    "collapsed": true
   },
   "outputs": [],
   "source": [
    "def train_test_split(X,Y,ratio):\n",
    "    train_length=(int)((1-ratio)*len(data))\n",
    "    train_X=X[0:train_length+1]\n",
    "    test_X=X[train_length+1:]\n",
    "    train_Y=Y[0:train_length+1]\n",
    "    test_Y=Y[train_length+1:]\n",
    "    return train_X,train_Y,test_X,test_Y"
   ]
  },
  {
   "cell_type": "code",
   "execution_count": 11,
   "metadata": {
    "collapsed": true
   },
   "outputs": [],
   "source": [
    "t = int( time.time() * 1000.0 )\n",
    "np.random.seed( ((t & 0xff000000) >> 24)+((t & 0x00ff0000)>>8) +((t & 0x0000ff00)<<8)+((t & 0x000000ff)<<24))\n",
    "X,Y,V,data,messages=get_data()"
   ]
  },
  {
   "cell_type": "code",
   "execution_count": 12,
   "metadata": {},
   "outputs": [
    {
     "data": {
      "text/html": [
       "<div>\n",
       "<style>\n",
       "    .dataframe thead tr:only-child th {\n",
       "        text-align: right;\n",
       "    }\n",
       "\n",
       "    .dataframe thead th {\n",
       "        text-align: left;\n",
       "    }\n",
       "\n",
       "    .dataframe tbody tr th {\n",
       "        vertical-align: top;\n",
       "    }\n",
       "</style>\n",
       "<table border=\"1\" class=\"dataframe\">\n",
       "  <thead>\n",
       "    <tr style=\"text-align: right;\">\n",
       "      <th></th>\n",
       "      <th>0</th>\n",
       "      <th>1</th>\n",
       "      <th>2</th>\n",
       "      <th>3</th>\n",
       "      <th>4</th>\n",
       "      <th>5</th>\n",
       "      <th>6</th>\n",
       "      <th>7</th>\n",
       "      <th>8</th>\n",
       "      <th>9</th>\n",
       "      <th>...</th>\n",
       "      <th>9256</th>\n",
       "      <th>9257</th>\n",
       "      <th>9258</th>\n",
       "      <th>9259</th>\n",
       "      <th>9260</th>\n",
       "      <th>9261</th>\n",
       "      <th>9262</th>\n",
       "      <th>9263</th>\n",
       "      <th>9264</th>\n",
       "      <th>Y</th>\n",
       "    </tr>\n",
       "  </thead>\n",
       "  <tbody>\n",
       "    <tr>\n",
       "      <th>0</th>\n",
       "      <td>1.0</td>\n",
       "      <td>1.0</td>\n",
       "      <td>1.0</td>\n",
       "      <td>1.0</td>\n",
       "      <td>1.0</td>\n",
       "      <td>1.0</td>\n",
       "      <td>1.0</td>\n",
       "      <td>0.0</td>\n",
       "      <td>0.0</td>\n",
       "      <td>0.0</td>\n",
       "      <td>...</td>\n",
       "      <td>0.0</td>\n",
       "      <td>0.0</td>\n",
       "      <td>0.0</td>\n",
       "      <td>0.0</td>\n",
       "      <td>0.0</td>\n",
       "      <td>0.0</td>\n",
       "      <td>0.0</td>\n",
       "      <td>0.0</td>\n",
       "      <td>0.0</td>\n",
       "      <td>1.0</td>\n",
       "    </tr>\n",
       "    <tr>\n",
       "      <th>1</th>\n",
       "      <td>0.0</td>\n",
       "      <td>0.0</td>\n",
       "      <td>0.0</td>\n",
       "      <td>0.0</td>\n",
       "      <td>0.0</td>\n",
       "      <td>1.0</td>\n",
       "      <td>0.0</td>\n",
       "      <td>1.0</td>\n",
       "      <td>1.0</td>\n",
       "      <td>1.0</td>\n",
       "      <td>...</td>\n",
       "      <td>0.0</td>\n",
       "      <td>0.0</td>\n",
       "      <td>0.0</td>\n",
       "      <td>0.0</td>\n",
       "      <td>0.0</td>\n",
       "      <td>0.0</td>\n",
       "      <td>0.0</td>\n",
       "      <td>0.0</td>\n",
       "      <td>0.0</td>\n",
       "      <td>1.0</td>\n",
       "    </tr>\n",
       "    <tr>\n",
       "      <th>2</th>\n",
       "      <td>0.0</td>\n",
       "      <td>0.0</td>\n",
       "      <td>0.0</td>\n",
       "      <td>0.0</td>\n",
       "      <td>0.0</td>\n",
       "      <td>0.0</td>\n",
       "      <td>0.0</td>\n",
       "      <td>0.0</td>\n",
       "      <td>0.0</td>\n",
       "      <td>0.0</td>\n",
       "      <td>...</td>\n",
       "      <td>0.0</td>\n",
       "      <td>0.0</td>\n",
       "      <td>0.0</td>\n",
       "      <td>0.0</td>\n",
       "      <td>0.0</td>\n",
       "      <td>0.0</td>\n",
       "      <td>0.0</td>\n",
       "      <td>0.0</td>\n",
       "      <td>0.0</td>\n",
       "      <td>1.0</td>\n",
       "    </tr>\n",
       "    <tr>\n",
       "      <th>3</th>\n",
       "      <td>0.0</td>\n",
       "      <td>0.0</td>\n",
       "      <td>0.0</td>\n",
       "      <td>0.0</td>\n",
       "      <td>0.0</td>\n",
       "      <td>0.0</td>\n",
       "      <td>0.0</td>\n",
       "      <td>0.0</td>\n",
       "      <td>0.0</td>\n",
       "      <td>0.0</td>\n",
       "      <td>...</td>\n",
       "      <td>0.0</td>\n",
       "      <td>0.0</td>\n",
       "      <td>0.0</td>\n",
       "      <td>0.0</td>\n",
       "      <td>0.0</td>\n",
       "      <td>0.0</td>\n",
       "      <td>0.0</td>\n",
       "      <td>0.0</td>\n",
       "      <td>0.0</td>\n",
       "      <td>1.0</td>\n",
       "    </tr>\n",
       "    <tr>\n",
       "      <th>4</th>\n",
       "      <td>0.0</td>\n",
       "      <td>0.0</td>\n",
       "      <td>0.0</td>\n",
       "      <td>0.0</td>\n",
       "      <td>0.0</td>\n",
       "      <td>0.0</td>\n",
       "      <td>0.0</td>\n",
       "      <td>0.0</td>\n",
       "      <td>0.0</td>\n",
       "      <td>0.0</td>\n",
       "      <td>...</td>\n",
       "      <td>0.0</td>\n",
       "      <td>0.0</td>\n",
       "      <td>0.0</td>\n",
       "      <td>0.0</td>\n",
       "      <td>0.0</td>\n",
       "      <td>0.0</td>\n",
       "      <td>0.0</td>\n",
       "      <td>0.0</td>\n",
       "      <td>0.0</td>\n",
       "      <td>1.0</td>\n",
       "    </tr>\n",
       "  </tbody>\n",
       "</table>\n",
       "<p>5 rows × 9266 columns</p>\n",
       "</div>"
      ],
      "text/plain": [
       "     0    1    2    3    4    5    6    7    8    9 ...   9256  9257  9258  \\\n",
       "0  1.0  1.0  1.0  1.0  1.0  1.0  1.0  0.0  0.0  0.0 ...    0.0   0.0   0.0   \n",
       "1  0.0  0.0  0.0  0.0  0.0  1.0  0.0  1.0  1.0  1.0 ...    0.0   0.0   0.0   \n",
       "2  0.0  0.0  0.0  0.0  0.0  0.0  0.0  0.0  0.0  0.0 ...    0.0   0.0   0.0   \n",
       "3  0.0  0.0  0.0  0.0  0.0  0.0  0.0  0.0  0.0  0.0 ...    0.0   0.0   0.0   \n",
       "4  0.0  0.0  0.0  0.0  0.0  0.0  0.0  0.0  0.0  0.0 ...    0.0   0.0   0.0   \n",
       "\n",
       "   9259  9260  9261  9262  9263  9264    Y  \n",
       "0   0.0   0.0   0.0   0.0   0.0   0.0  1.0  \n",
       "1   0.0   0.0   0.0   0.0   0.0   0.0  1.0  \n",
       "2   0.0   0.0   0.0   0.0   0.0   0.0  1.0  \n",
       "3   0.0   0.0   0.0   0.0   0.0   0.0  1.0  \n",
       "4   0.0   0.0   0.0   0.0   0.0   0.0  1.0  \n",
       "\n",
       "[5 rows x 9266 columns]"
      ]
     },
     "execution_count": 12,
     "metadata": {},
     "output_type": "execute_result"
    }
   ],
   "source": [
    "data.head()"
   ]
  },
  {
   "cell_type": "code",
   "execution_count": 13,
   "metadata": {},
   "outputs": [
    {
     "data": {
      "text/html": [
       "<div>\n",
       "<style>\n",
       "    .dataframe thead tr:only-child th {\n",
       "        text-align: right;\n",
       "    }\n",
       "\n",
       "    .dataframe thead th {\n",
       "        text-align: left;\n",
       "    }\n",
       "\n",
       "    .dataframe tbody tr th {\n",
       "        vertical-align: top;\n",
       "    }\n",
       "</style>\n",
       "<table border=\"1\" class=\"dataframe\">\n",
       "  <thead>\n",
       "    <tr style=\"text-align: right;\">\n",
       "      <th></th>\n",
       "      <th>label</th>\n",
       "      <th>message</th>\n",
       "    </tr>\n",
       "  </thead>\n",
       "  <tbody>\n",
       "    <tr>\n",
       "      <th>1922</th>\n",
       "      <td>ham</td>\n",
       "      <td>No current and food here. I am alone also</td>\n",
       "    </tr>\n",
       "    <tr>\n",
       "      <th>733</th>\n",
       "      <td>ham</td>\n",
       "      <td>Lol you won't feel bad when I use her money to...</td>\n",
       "    </tr>\n",
       "    <tr>\n",
       "      <th>643</th>\n",
       "      <td>ham</td>\n",
       "      <td>Probably gonna swing by in a wee bit</td>\n",
       "    </tr>\n",
       "    <tr>\n",
       "      <th>549</th>\n",
       "      <td>ham</td>\n",
       "      <td>Wait  &amp;lt;#&amp;gt;  min..</td>\n",
       "    </tr>\n",
       "    <tr>\n",
       "      <th>1384</th>\n",
       "      <td>ham</td>\n",
       "      <td>Please reserve ticket on saturday eve from che...</td>\n",
       "    </tr>\n",
       "  </tbody>\n",
       "</table>\n",
       "</div>"
      ],
      "text/plain": [
       "     label                                            message\n",
       "1922   ham          No current and food here. I am alone also\n",
       "733    ham  Lol you won't feel bad when I use her money to...\n",
       "643    ham               Probably gonna swing by in a wee bit\n",
       "549    ham                             Wait  &lt;#&gt;  min..\n",
       "1384   ham  Please reserve ticket on saturday eve from che..."
      ]
     },
     "execution_count": 13,
     "metadata": {},
     "output_type": "execute_result"
    }
   ],
   "source": [
    "messages.head()"
   ]
  },
  {
   "cell_type": "code",
   "execution_count": 14,
   "metadata": {
    "collapsed": true
   },
   "outputs": [],
   "source": [
    "train_X,train_Y,test_X,test_Y=train_test_split(X,Y,0.2)"
   ]
  },
  {
   "cell_type": "code",
   "execution_count": 25,
   "metadata": {},
   "outputs": [
    {
     "name": "stdout",
     "output_type": "stream",
     "text": [
      "('Epoch ', 0)\n",
      "('Epoch ', 1)\n",
      "('Epoch ', 2)\n",
      "('Epoch ', 3)\n",
      "('Epoch ', 4)\n",
      "('Epoch ', 5)\n",
      "('Epoch ', 6)\n",
      "('Epoch ', 7)\n",
      "('Epoch ', 8)\n",
      "('Epoch ', 9)\n",
      "('Epoch ', 10)\n",
      "('Epoch ', 11)\n",
      "('Epoch ', 12)\n",
      "('Epoch ', 13)\n",
      "('Epoch ', 14)\n",
      "('Epoch ', 15)\n",
      "('Epoch ', 16)\n",
      "('Epoch ', 17)\n",
      "('Epoch ', 18)\n",
      "('Epoch ', 19)\n",
      "('Epoch ', 20)\n",
      "('Epoch ', 21)\n",
      "('Epoch ', 22)\n",
      "('Epoch ', 23)\n",
      "('Epoch ', 24)\n",
      "('Epoch ', 25)\n",
      "('Epoch ', 26)\n",
      "('Epoch ', 27)\n",
      "('Epoch ', 28)\n",
      "('Epoch ', 29)\n",
      "('Epoch ', 30)\n",
      "('Epoch ', 31)\n",
      "('Epoch ', 32)\n",
      "('Epoch ', 33)\n",
      "('Epoch ', 34)\n",
      "('Epoch ', 35)\n",
      "('Epoch ', 36)\n"
     ]
    }
   ],
   "source": [
    "dim=[V,100,50,1]\n",
    "cost_list,test_cost_list,iter_list,W,b=neural_network(0.1,dim,37,'sigmoid',train_X,train_Y,test_X,test_Y)\n"
   ]
  },
  {
   "cell_type": "code",
   "execution_count": 26,
   "metadata": {},
   "outputs": [
    {
     "data": {
      "image/png": "[encoded data removed]",
      "text/plain": [
       "<matplotlib.figure.Figure at 0x7f6963f3d050>"
      ]
     },
     "metadata": {},
     "output_type": "display_data"
    }
   ],
   "source": [
    "plot_cost(iter_list,cost_list)"
   ]
  },
  {
   "cell_type": "code",
   "execution_count": 27,
   "metadata": {},
   "outputs": [
    {
     "data": {
      "image/png": "[encoded data removed]",
      "text/plain": [
       "<matplotlib.figure.Figure at 0x7f6964091b90>"
      ]
     },
     "metadata": {},
     "output_type": "display_data"
    }
   ],
   "source": [
    "plot_cost(iter_list,test_cost_list)"
   ]
  },
  {
   "cell_type": "code",
   "execution_count": 28,
   "metadata": {},
   "outputs": [
    {
     "data": {
      "text/plain": [
       "0.98833034111310591"
      ]
     },
     "execution_count": 28,
     "metadata": {},
     "output_type": "execute_result"
    }
   ],
   "source": [
    "y_pred=predict(W,b,test_X,dim)\n",
    "accuracy_score(test_Y,y_pred,normalize=True)"
   ]
  },
  {
   "cell_type": "code",
   "execution_count": 29,
   "metadata": {},
   "outputs": [
    {
     "data": {
      "text/plain": [
       "(0.98848514271058507, 0.98833034111310591, 0.98809936118397657, None)"
      ]
     },
     "execution_count": 29,
     "metadata": {},
     "output_type": "execute_result"
    }
   ],
   "source": [
    "precision_recall_fscore_support(test_Y,y_pred,average='weighted')"
   ]
  },
  {
   "cell_type": "code",
   "execution_count": 30,
   "metadata": {},
   "outputs": [
    {
     "data": {
      "image/png": "[encoded data removed]",
      "text/plain": [
       "<matplotlib.figure.Figure at 0x7f6964298210>"
      ]
     },
     "metadata": {},
     "output_type": "display_data"
    }
   ],
   "source": [
    "plot_cost(iter_list[4:],cost_list[4:])"
   ]
  },
  {
   "cell_type": "code",
   "execution_count": 31,
   "metadata": {},
   "outputs": [
    {
     "data": {
      "image/png": "[encoded data removed]",
      "text/plain": [
       "<matplotlib.figure.Figure at 0x7f696416a950>"
      ]
     },
     "metadata": {},
     "output_type": "display_data"
    }
   ],
   "source": [
    "plot_together(iter_list,cost_list,test_cost_list)"
   ]
  },
  {
   "cell_type": "code",
   "execution_count": null,
   "metadata": {
    "collapsed": true
   },
   "outputs": [],
   "source": []
  }
 ],
 "metadata": {
  "kernelspec": {
   "display_name": "Python 2",
   "language": "python",
   "name": "python2"
  },
  "language_info": {
   "codemirror_mode": {
    "name": "ipython",
    "version": 2
   },
   "file_extension": ".py",
   "mimetype": "text/x-python",
   "name": "python",
   "nbconvert_exporter": "python",
   "pygments_lexer": "ipython2",
   "version": "2.7.12"
  }
 },
 "nbformat": 4,
 "nbformat_minor": 2
}
