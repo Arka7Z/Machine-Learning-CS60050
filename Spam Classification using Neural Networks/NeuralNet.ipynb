{
 "cells": [
  {
   "cell_type": "code",
   "execution_count": 21,
   "metadata": {
    "collapsed": true
   },
   "outputs": [],
   "source": [
    "from __future__ import division\n",
    "from nltk.stem import WordNetLemmatizer\n",
    "from nltk.corpus import stopwords\n",
    "from sklearn.utils import shuffle\n",
    "from sklearn.metrics import accuracy_score\n",
    "from scipy.special import expit\n",
    "import random\n",
    "from random import randint\n",
    "import nltk\n",
    "import numpy as np\n",
    "import pandas as pd\n",
    "import csv\n",
    "import matplotlib.pyplot as plt\n",
    "import time\n",
    "%matplotlib inline\n",
    "\n",
    "wordnet_lemmatizer = WordNetLemmatizer()"
   ]
  },
  {
   "cell_type": "code",
   "execution_count": 22,
   "metadata": {
    "collapsed": true
   },
   "outputs": [],
   "source": [
    "def plot_cost(iter_list,cost_list):\n",
    "    plt.plot(iter_list,cost_list,'r.')\n",
    "    plt.xlabel('Iterations ->')\n",
    "    plt.ylabel('Cost')\n",
    "    plt.show()"
   ]
  },
  {
   "cell_type": "code",
   "execution_count": 23,
   "metadata": {},
   "outputs": [],
   "source": [
    "def sigmoid(x):\n",
    "    return expit(x)\n",
    "def tanh(x):\n",
    "    return np.tanh(x)\n"
   ]
  },
  {
   "cell_type": "code",
   "execution_count": 24,
   "metadata": {},
   "outputs": [],
   "source": [
    "def activation_func(z,func='sigmoid'):\n",
    "    if(func=='sigmoid'):\n",
    "        return sigmoid(z)\n",
    "    else:\n",
    "        return tanh(z)"
   ]
  },
  {
   "cell_type": "code",
   "execution_count": 25,
   "metadata": {},
   "outputs": [],
   "source": [
    "def derivative_sigmoid(z):\n",
    "    g_z=sigmoid(z)\n",
    "    return g_z*(1-g_z)\n",
    "def derivative_tanh(z):\n",
    "    g_z=tanh(z)\n",
    "    return (1-g_z*g_z)"
   ]
  },
  {
   "cell_type": "code",
   "execution_count": 26,
   "metadata": {
    "collapsed": true
   },
   "outputs": [],
   "source": [
    "def mse(Y,Y_pred):\n",
    "    m=len(Y)\n",
    "    J = np.sum((Y_pred - Y) ** 2)/(2 * m)\n",
    "    return J"
   ]
  },
  {
   "cell_type": "code",
   "execution_count": 27,
   "metadata": {
    "collapsed": true
   },
   "outputs": [],
   "source": [
    "def predict(W,b,X,dim):\n",
    "    y_pred=list()\n",
    "    L=len(dim)-1\n",
    "    N=len(X)\n",
    "    threshold=0.6\n",
    "    a=dict()\n",
    "    z=dict()\n",
    "    \n",
    "    for i in range(1,L+1):\n",
    "        a[i]=np.empty(shape=[1,dim[i]])\n",
    "        z[i]=np.empty(shape=[1,dim[i]])\n",
    "        \n",
    "        \n",
    "    for n in range(N):\n",
    "    # Init a[0]=x_sel,y=corresponding_y\n",
    "        a[0]=X[n]\n",
    "        y=Y[n]\n",
    "        # Forward Pass\n",
    "        for l in range(1,L+1):\n",
    "            z[l]=a[l-1].dot(W[l])+b[l]\n",
    "            a[l]=activation_func(z[l])\n",
    "        if(a[L]>threshold):\n",
    "            a[L]=-1.0\n",
    "        else:\n",
    "            a[L]=1.0\n",
    "        y_pred.append(a[L])\n",
    "    y_pred=np.asarray(y_pred)\n",
    "    return y_pred"
   ]
  },
  {
   "cell_type": "code",
   "execution_count": 28,
   "metadata": {},
   "outputs": [],
   "source": [
    "def neural_network(learning_rate,dim,n_epoch,activation_func_name,train_X,train_Y,test_X,test_Y):\n",
    "    L=len(dim)-1\n",
    "    threshold=0.6\n",
    "    W=dict()\n",
    "    b=dict()\n",
    "    a=dict()\n",
    "    z=dict()\n",
    "    delta=dict()\n",
    "    \n",
    "    tolerance=1e-5\n",
    "    cost_old=999999\n",
    "    \n",
    "    N=len(train_X)\n",
    "    a[0]=np.empty(shape=[1,dim[0]])\n",
    "    \n",
    "    for i in range(1,L+1):\n",
    "        W[i]=np.random.randn(dim[i-1],dim[i])/np.sqrt(dim[i-1])\n",
    "        b[i]=np.ones([1,dim[i]])\n",
    "\n",
    "        \n",
    "    cost_list=list()  \n",
    "    iter_list=list()\n",
    "    \n",
    "    for epoch in range(n_epoch):\n",
    "        z=zip(train_X,train_Y)\n",
    "        random.shuffle(z)\n",
    "        train_X,train_Y=zip(*z)\n",
    "        for n in range(N):\n",
    "            #n=randint(0,N-1)    \n",
    "\n",
    "            # Init a[0]=x_sel,y=corresponding_y\n",
    "            a[0]=train_X[n]\n",
    "            y=train_Y[n]\n",
    "\n",
    "            # Forward Pass\n",
    "            for l in range(1,L+1):\n",
    "                z[l]=a[l-1].dot(W[l])+b[l]\n",
    "                #print(\"l \",l,\" z[l]\",z[l])\n",
    "                a[l]=activation_func(z[l])\n",
    "                #print(\"a[l]\",a[l])\n",
    "            if(a[L]>threshold):\n",
    "                a[L]=-1.0                # SPAM\n",
    "            else:\n",
    "                a[L]=1.0\n",
    "                \n",
    "            # Backward Pass\n",
    "            delta[L]=(2*(y-a[L]))*derivative_sigmoid(z[L])\n",
    "            for l in range(L-1,0,-1):\n",
    "                tmp=np.asarray(np.dot(W[l+1],delta[l+1]))\n",
    "                delta[l]=np.asarray(np.asarray(derivative_sigmoid(z[l])).T*tmp)\n",
    "\n",
    "            # Update weights\n",
    "            for l in range(1,L+1):\n",
    "                W[l]=W[l]-learning_rate*(delta[l]*a[l-1]).T\n",
    "\n",
    "        cost=mse(train_Y,predict(W,b,train_X,dim))\n",
    "        if((abs(cost-cost_old)<tolerance and epoch>100) or cost_old==0):\n",
    "            break\n",
    "        cost_old=cost\n",
    "        cost_list.append(cost)\n",
    "        iter_list.append(epoch)\n",
    "        print(\"Epoch: \",epoch,\" mse: \",cost)\n",
    "    return cost_list,iter_list,W,b\n",
    "\n",
    "    "
   ]
  },
  {
   "cell_type": "code",
   "execution_count": 29,
   "metadata": {
    "collapsed": true
   },
   "outputs": [],
   "source": [
    "def get_data():\n",
    "    messages =pd.read_csv('Assignment_2_data.txt', sep='\\t', quoting=csv.QUOTE_NONE,names=[\"label\", \"message\"],encoding='utf8')\n",
    "    word_index=dict()\n",
    "    messages=shuffle(messages)\n",
    "    vocab=0\n",
    "    for index,rows in messages.iterrows():\n",
    "        sentence=rows['message']\n",
    "        tokens = nltk.word_tokenize(sentence)\n",
    "        tokens=[w for w in tokens if not w in stopwords.words('english')]\n",
    "        tokens=[token.lower() for token in tokens]\n",
    "        wordset=[wordnet_lemmatizer.lemmatize(token) for token in tokens]\n",
    "        wordset=list(set(wordset))\n",
    "        for word in wordset:\n",
    "            if not word in word_index:\n",
    "                word_index[word]=vocab\n",
    "                vocab+=1\n",
    "    X=list()\n",
    "    Y=list()\n",
    "    for index,rows in messages.iterrows():\n",
    "        sentence=rows['message']\n",
    "        tokens = nltk.word_tokenize(sentence)\n",
    "        tokens=[w for w in tokens if not w in stopwords.words('english')]\n",
    "        tokens=[token.lower() for token in tokens]\n",
    "        wordset=[wordnet_lemmatizer.lemmatize(token) for token in tokens]\n",
    "        wordset=list(set(wordset))\n",
    "        tmp_list=[0.0]*vocab\n",
    "        #print(wordset)\n",
    "        for word in wordset:\n",
    "            tmp_list[word_index[word]]=1.0\n",
    "        if (rows['label']=='ham'):\n",
    "            Y.append(1.0)\n",
    "        else:\n",
    "            Y.append(-1.0)\n",
    "        X.append(tmp_list)\n",
    "    X=np.array(X)\n",
    "    Y=np.array(Y)\n",
    "    data=pd.DataFrame(X) \n",
    "    data['Y']=Y\n",
    "    return X,Y,vocab,data,messages\n",
    "            \n",
    "        \n",
    "    \n",
    "    "
   ]
  },
  {
   "cell_type": "code",
   "execution_count": 30,
   "metadata": {
    "collapsed": true
   },
   "outputs": [],
   "source": [
    "def train_test_split(X,Y,ratio):\n",
    "    train_length=(int)((1-ratio)*len(data))\n",
    "    train_X=X[0:train_length+1]\n",
    "    test_X=X[train_length+1:]\n",
    "    train_Y=Y[0:train_length+1]\n",
    "    test_Y=Y[train_length+1:]\n",
    "    return train_X,train_Y,test_X,test_Y"
   ]
  },
  {
   "cell_type": "code",
   "execution_count": 36,
   "metadata": {},
   "outputs": [],
   "source": [
    "t = int( time.time() * 1000.0 )\n",
    "np.random.seed( ((t & 0xff000000) >> 24)+((t & 0x00ff0000)>>8) +((t & 0x0000ff00)<<8)+((t & 0x000000ff)<<24))\n",
    "X,Y,V,data,messages=get_data()"
   ]
  },
  {
   "cell_type": "code",
   "execution_count": 12,
   "metadata": {},
   "outputs": [
    {
     "data": {
      "text/html": [
       "<div>\n",
       "<style>\n",
       "    .dataframe thead tr:only-child th {\n",
       "        text-align: right;\n",
       "    }\n",
       "\n",
       "    .dataframe thead th {\n",
       "        text-align: left;\n",
       "    }\n",
       "\n",
       "    .dataframe tbody tr th {\n",
       "        vertical-align: top;\n",
       "    }\n",
       "</style>\n",
       "<table border=\"1\" class=\"dataframe\">\n",
       "  <thead>\n",
       "    <tr style=\"text-align: right;\">\n",
       "      <th></th>\n",
       "      <th>0</th>\n",
       "      <th>1</th>\n",
       "      <th>2</th>\n",
       "      <th>3</th>\n",
       "      <th>4</th>\n",
       "      <th>5</th>\n",
       "      <th>6</th>\n",
       "      <th>7</th>\n",
       "      <th>8</th>\n",
       "      <th>9</th>\n",
       "      <th>...</th>\n",
       "      <th>9256</th>\n",
       "      <th>9257</th>\n",
       "      <th>9258</th>\n",
       "      <th>9259</th>\n",
       "      <th>9260</th>\n",
       "      <th>9261</th>\n",
       "      <th>9262</th>\n",
       "      <th>9263</th>\n",
       "      <th>9264</th>\n",
       "      <th>Y</th>\n",
       "    </tr>\n",
       "  </thead>\n",
       "  <tbody>\n",
       "    <tr>\n",
       "      <th>0</th>\n",
       "      <td>1.0</td>\n",
       "      <td>1.0</td>\n",
       "      <td>1.0</td>\n",
       "      <td>1.0</td>\n",
       "      <td>1.0</td>\n",
       "      <td>1.0</td>\n",
       "      <td>1.0</td>\n",
       "      <td>1.0</td>\n",
       "      <td>1.0</td>\n",
       "      <td>1.0</td>\n",
       "      <td>...</td>\n",
       "      <td>0.0</td>\n",
       "      <td>0.0</td>\n",
       "      <td>0.0</td>\n",
       "      <td>0.0</td>\n",
       "      <td>0.0</td>\n",
       "      <td>0.0</td>\n",
       "      <td>0.0</td>\n",
       "      <td>0.0</td>\n",
       "      <td>0.0</td>\n",
       "      <td>1.0</td>\n",
       "    </tr>\n",
       "    <tr>\n",
       "      <th>1</th>\n",
       "      <td>0.0</td>\n",
       "      <td>0.0</td>\n",
       "      <td>0.0</td>\n",
       "      <td>0.0</td>\n",
       "      <td>0.0</td>\n",
       "      <td>0.0</td>\n",
       "      <td>0.0</td>\n",
       "      <td>0.0</td>\n",
       "      <td>0.0</td>\n",
       "      <td>0.0</td>\n",
       "      <td>...</td>\n",
       "      <td>0.0</td>\n",
       "      <td>0.0</td>\n",
       "      <td>0.0</td>\n",
       "      <td>0.0</td>\n",
       "      <td>0.0</td>\n",
       "      <td>0.0</td>\n",
       "      <td>0.0</td>\n",
       "      <td>0.0</td>\n",
       "      <td>0.0</td>\n",
       "      <td>1.0</td>\n",
       "    </tr>\n",
       "    <tr>\n",
       "      <th>2</th>\n",
       "      <td>0.0</td>\n",
       "      <td>0.0</td>\n",
       "      <td>0.0</td>\n",
       "      <td>0.0</td>\n",
       "      <td>0.0</td>\n",
       "      <td>0.0</td>\n",
       "      <td>0.0</td>\n",
       "      <td>0.0</td>\n",
       "      <td>0.0</td>\n",
       "      <td>0.0</td>\n",
       "      <td>...</td>\n",
       "      <td>0.0</td>\n",
       "      <td>0.0</td>\n",
       "      <td>0.0</td>\n",
       "      <td>0.0</td>\n",
       "      <td>0.0</td>\n",
       "      <td>0.0</td>\n",
       "      <td>0.0</td>\n",
       "      <td>0.0</td>\n",
       "      <td>0.0</td>\n",
       "      <td>1.0</td>\n",
       "    </tr>\n",
       "    <tr>\n",
       "      <th>3</th>\n",
       "      <td>0.0</td>\n",
       "      <td>0.0</td>\n",
       "      <td>0.0</td>\n",
       "      <td>0.0</td>\n",
       "      <td>0.0</td>\n",
       "      <td>0.0</td>\n",
       "      <td>0.0</td>\n",
       "      <td>0.0</td>\n",
       "      <td>0.0</td>\n",
       "      <td>0.0</td>\n",
       "      <td>...</td>\n",
       "      <td>0.0</td>\n",
       "      <td>0.0</td>\n",
       "      <td>0.0</td>\n",
       "      <td>0.0</td>\n",
       "      <td>0.0</td>\n",
       "      <td>0.0</td>\n",
       "      <td>0.0</td>\n",
       "      <td>0.0</td>\n",
       "      <td>0.0</td>\n",
       "      <td>1.0</td>\n",
       "    </tr>\n",
       "    <tr>\n",
       "      <th>4</th>\n",
       "      <td>0.0</td>\n",
       "      <td>0.0</td>\n",
       "      <td>0.0</td>\n",
       "      <td>0.0</td>\n",
       "      <td>0.0</td>\n",
       "      <td>0.0</td>\n",
       "      <td>0.0</td>\n",
       "      <td>0.0</td>\n",
       "      <td>0.0</td>\n",
       "      <td>0.0</td>\n",
       "      <td>...</td>\n",
       "      <td>0.0</td>\n",
       "      <td>0.0</td>\n",
       "      <td>0.0</td>\n",
       "      <td>0.0</td>\n",
       "      <td>0.0</td>\n",
       "      <td>0.0</td>\n",
       "      <td>0.0</td>\n",
       "      <td>0.0</td>\n",
       "      <td>0.0</td>\n",
       "      <td>-1.0</td>\n",
       "    </tr>\n",
       "  </tbody>\n",
       "</table>\n",
       "<p>5 rows × 9266 columns</p>\n",
       "</div>"
      ],
      "text/plain": [
       "     0    1    2    3    4    5    6    7    8    9 ...   9256  9257  9258  \\\n",
       "0  1.0  1.0  1.0  1.0  1.0  1.0  1.0  1.0  1.0  1.0 ...    0.0   0.0   0.0   \n",
       "1  0.0  0.0  0.0  0.0  0.0  0.0  0.0  0.0  0.0  0.0 ...    0.0   0.0   0.0   \n",
       "2  0.0  0.0  0.0  0.0  0.0  0.0  0.0  0.0  0.0  0.0 ...    0.0   0.0   0.0   \n",
       "3  0.0  0.0  0.0  0.0  0.0  0.0  0.0  0.0  0.0  0.0 ...    0.0   0.0   0.0   \n",
       "4  0.0  0.0  0.0  0.0  0.0  0.0  0.0  0.0  0.0  0.0 ...    0.0   0.0   0.0   \n",
       "\n",
       "   9259  9260  9261  9262  9263  9264    Y  \n",
       "0   0.0   0.0   0.0   0.0   0.0   0.0  1.0  \n",
       "1   0.0   0.0   0.0   0.0   0.0   0.0  1.0  \n",
       "2   0.0   0.0   0.0   0.0   0.0   0.0  1.0  \n",
       "3   0.0   0.0   0.0   0.0   0.0   0.0  1.0  \n",
       "4   0.0   0.0   0.0   0.0   0.0   0.0 -1.0  \n",
       "\n",
       "[5 rows x 9266 columns]"
      ]
     },
     "execution_count": 12,
     "metadata": {},
     "output_type": "execute_result"
    }
   ],
   "source": [
    "data.head()"
   ]
  },
  {
   "cell_type": "code",
   "execution_count": 13,
   "metadata": {},
   "outputs": [
    {
     "data": {
      "text/html": [
       "<div>\n",
       "<style>\n",
       "    .dataframe thead tr:only-child th {\n",
       "        text-align: right;\n",
       "    }\n",
       "\n",
       "    .dataframe thead th {\n",
       "        text-align: left;\n",
       "    }\n",
       "\n",
       "    .dataframe tbody tr th {\n",
       "        vertical-align: top;\n",
       "    }\n",
       "</style>\n",
       "<table border=\"1\" class=\"dataframe\">\n",
       "  <thead>\n",
       "    <tr style=\"text-align: right;\">\n",
       "      <th></th>\n",
       "      <th>label</th>\n",
       "      <th>message</th>\n",
       "    </tr>\n",
       "  </thead>\n",
       "  <tbody>\n",
       "    <tr>\n",
       "      <th>1108</th>\n",
       "      <td>ham</td>\n",
       "      <td>From someone not to smoke when every time I've...</td>\n",
       "    </tr>\n",
       "    <tr>\n",
       "      <th>4724</th>\n",
       "      <td>ham</td>\n",
       "      <td>HELLO PEACH! MY CAKE TASTS LUSH!</td>\n",
       "    </tr>\n",
       "    <tr>\n",
       "      <th>5474</th>\n",
       "      <td>ham</td>\n",
       "      <td>Well obviously not because all the people in m...</td>\n",
       "    </tr>\n",
       "    <tr>\n",
       "      <th>3134</th>\n",
       "      <td>ham</td>\n",
       "      <td>So no messages. Had food?</td>\n",
       "    </tr>\n",
       "    <tr>\n",
       "      <th>5468</th>\n",
       "      <td>spam</td>\n",
       "      <td>http//tms. widelive.com/index. wml?id=820554ad...</td>\n",
       "    </tr>\n",
       "  </tbody>\n",
       "</table>\n",
       "</div>"
      ],
      "text/plain": [
       "     label                                            message\n",
       "1108   ham  From someone not to smoke when every time I've...\n",
       "4724   ham                   HELLO PEACH! MY CAKE TASTS LUSH!\n",
       "5474   ham  Well obviously not because all the people in m...\n",
       "3134   ham                          So no messages. Had food?\n",
       "5468  spam  http//tms. widelive.com/index. wml?id=820554ad..."
      ]
     },
     "execution_count": 13,
     "metadata": {},
     "output_type": "execute_result"
    }
   ],
   "source": [
    "messages.head()"
   ]
  },
  {
   "cell_type": "code",
   "execution_count": 32,
   "metadata": {
    "collapsed": true
   },
   "outputs": [],
   "source": [
    "train_X,train_Y,test_X,test_Y=train_test_split(X,Y,0.2)"
   ]
  },
  {
   "cell_type": "code",
   "execution_count": 33,
   "metadata": {},
   "outputs": [
    {
     "name": "stdout",
     "output_type": "stream",
     "text": [
      "('Epoch: ', 0, ' mse: ', 0.079372197309417039)\n",
      "('Epoch: ', 1, ' mse: ', 0.081165919282511212)\n",
      "('Epoch: ', 2, ' mse: ', 0.03766816143497758)\n",
      "('Epoch: ', 3, ' mse: ', 0.065022421524663671)\n",
      "('Epoch: ', 4, ' mse: ', 0.021076233183856503)\n",
      "('Epoch: ', 5, ' mse: ', 0.023318385650224215)\n",
      "('Epoch: ', 6, ' mse: ', 0.021076233183856503)\n",
      "('Epoch: ', 7, ' mse: ', 0.012556053811659192)\n",
      "('Epoch: ', 8, ' mse: ', 0.010762331838565023)\n",
      "('Epoch: ', 9, ' mse: ', 0.019730941704035873)\n",
      "('Epoch: ', 10, ' mse: ', 0.0085201793721973087)\n",
      "('Epoch: ', 11, ' mse: ', 0.0071748878923766817)\n",
      "('Epoch: ', 12, ' mse: ', 0.0031390134529147981)\n",
      "('Epoch: ', 13, ' mse: ', 0.0031390134529147981)\n",
      "('Epoch: ', 14, ' mse: ', 0.0094170403587443951)\n",
      "('Epoch: ', 15, ' mse: ', 0.056053811659192827)\n",
      "('Epoch: ', 16, ' mse: ', 0.0031390134529147981)\n",
      "('Epoch: ', 17, ' mse: ', 0.0026905829596412557)\n",
      "('Epoch: ', 18, ' mse: ', 0.024215246636771302)\n",
      "('Epoch: ', 19, ' mse: ', 0.002242152466367713)\n",
      "('Epoch: ', 20, ' mse: ', 0.079372197309417039)\n",
      "('Epoch: ', 21, ' mse: ', 0.002242152466367713)\n",
      "('Epoch: ', 22, ' mse: ', 0.0035874439461883408)\n",
      "('Epoch: ', 23, ' mse: ', 0.0017937219730941704)\n",
      "('Epoch: ', 24, ' mse: ', 0.0013452914798206279)\n",
      "('Epoch: ', 25, ' mse: ', 0.02062780269058296)\n",
      "('Epoch: ', 26, ' mse: ', 0.0013452914798206279)\n",
      "('Epoch: ', 27, ' mse: ', 0.00044843049327354261)\n",
      "('Epoch: ', 28, ' mse: ', 0.00044843049327354261)\n",
      "('Epoch: ', 29, ' mse: ', 0.0031390134529147981)\n",
      "('Epoch: ', 30, ' mse: ', 0.0031390134529147981)\n",
      "('Epoch: ', 31, ' mse: ', 0.00089686098654708521)\n",
      "('Epoch: ', 32, ' mse: ', 0.00044843049327354261)\n",
      "('Epoch: ', 33, ' mse: ', 0.00044843049327354261)\n",
      "('Epoch: ', 34, ' mse: ', 0.00044843049327354261)\n",
      "('Epoch: ', 35, ' mse: ', 0.002242152466367713)\n",
      "('Epoch: ', 36, ' mse: ', 0.0035874439461883408)\n",
      "('Epoch: ', 37, ' mse: ', 0.00089686098654708521)\n",
      "('Epoch: ', 38, ' mse: ', 0.00044843049327354261)\n",
      "('Epoch: ', 39, ' mse: ', 0.00044843049327354261)\n",
      "('Epoch: ', 40, ' mse: ', 0.00044843049327354261)\n",
      "('Epoch: ', 41, ' mse: ', 0.00044843049327354261)\n",
      "('Epoch: ', 42, ' mse: ', 0.0)\n"
     ]
    },
    {
     "data": {
      "image/png": "[encoded data removed]",
      "text/plain": [
       "<matplotlib.figure.Figure at 0x7fd397cd8a50>"
      ]
     },
     "metadata": {},
     "output_type": "display_data"
    }
   ],
   "source": [
    "dim=[V,100,50,1]\n",
    "cost_list,iter_list,W,b=neural_network(0.1,dim,1000,'sigmoid',train_X,train_Y,test_X,test_Y)\n",
    "plot_cost(iter_list,cost_list)"
   ]
  },
  {
   "cell_type": "code",
   "execution_count": 35,
   "metadata": {},
   "outputs": [
    {
     "data": {
      "text/plain": [
       "0.98384201077199285"
      ]
     },
     "execution_count": 35,
     "metadata": {},
     "output_type": "execute_result"
    }
   ],
   "source": [
    "y_pred=predict(W,b,test_X,dim)\n",
    "accuracy_score(test_Y,y_pred,normalize=True)"
   ]
  },
  {
   "cell_type": "code",
   "execution_count": 53,
   "metadata": {},
   "outputs": [],
   "source": [
    "u1=np.random.rand(*(2,3)) < 0."
   ]
  },
  {
   "cell_type": "code",
   "execution_count": 54,
   "metadata": {},
   "outputs": [
    {
     "data": {
      "text/plain": [
       "array([[ True,  True,  True],\n",
       "       [False,  True,  True]], dtype=bool)"
      ]
     },
     "execution_count": 54,
     "metadata": {},
     "output_type": "execute_result"
    }
   ],
   "source": [
    "u1"
   ]
  },
  {
   "cell_type": "code",
   "execution_count": 58,
   "metadata": {},
   "outputs": [],
   "source": [
    "v=np.random.rand(2,3)"
   ]
  },
  {
   "cell_type": "code",
   "execution_count": 59,
   "metadata": {},
   "outputs": [
    {
     "data": {
      "text/plain": [
       "array([[ 0.84805082,  0.08815002,  0.91756343],\n",
       "       [ 0.66510136,  0.37060951,  0.32436339]])"
      ]
     },
     "execution_count": 59,
     "metadata": {},
     "output_type": "execute_result"
    }
   ],
   "source": [
    "v"
   ]
  },
  {
   "cell_type": "code",
   "execution_count": 60,
   "metadata": {
    "collapsed": true
   },
   "outputs": [],
   "source": [
    "v*=u1"
   ]
  },
  {
   "cell_type": "code",
   "execution_count": 61,
   "metadata": {},
   "outputs": [
    {
     "data": {
      "text/plain": [
       "array([[ 0.84805082,  0.08815002,  0.91756343],\n",
       "       [ 0.        ,  0.37060951,  0.32436339]])"
      ]
     },
     "execution_count": 61,
     "metadata": {},
     "output_type": "execute_result"
    }
   ],
   "source": [
    "v"
   ]
  },
  {
   "cell_type": "code",
   "execution_count": null,
   "metadata": {
    "collapsed": true
   },
   "outputs": [],
   "source": []
  }
 ],
 "metadata": {
  "kernelspec": {
   "display_name": "Python 2",
   "language": "python",
   "name": "python2"
  },
  "language_info": {
   "codemirror_mode": {
    "name": "ipython",
    "version": 2
   },
   "file_extension": ".py",
   "mimetype": "text/x-python",
   "name": "python",
   "nbconvert_exporter": "python",
   "pygments_lexer": "ipython2",
   "version": "2.7.12"
  }
 },
 "nbformat": 4,
 "nbformat_minor": 2
}
