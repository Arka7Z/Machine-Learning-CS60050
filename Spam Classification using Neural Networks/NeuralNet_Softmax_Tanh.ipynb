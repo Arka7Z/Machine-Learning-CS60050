{
 "cells": [
  {
   "cell_type": "code",
   "execution_count": 2,
   "metadata": {
    "collapsed": true
   },
   "outputs": [],
   "source": [
    "from __future__ import division\n",
    "from nltk.stem import WordNetLemmatizer\n",
    "from nltk.corpus import stopwords\n",
    "from sklearn.utils import shuffle\n",
    "from sklearn.metrics import accuracy_score\n",
    "from scipy.special import expit\n",
    "import random\n",
    "from random import randint\n",
    "import nltk\n",
    "import numpy as np\n",
    "import pandas as pd\n",
    "import csv\n",
    "import matplotlib.pyplot as plt\n",
    "import time\n",
    "%matplotlib inline\n",
    "\n",
    "wordnet_lemmatizer = WordNetLemmatizer()"
   ]
  },
  {
   "cell_type": "code",
   "execution_count": 3,
   "metadata": {
    "collapsed": true
   },
   "outputs": [],
   "source": [
    "def plot_cost(iter_list,cost_list):\n",
    "    plt.plot(iter_list,cost_list,'r.')\n",
    "    plt.xlabel('Iterations ->')\n",
    "    plt.ylabel('Cost')\n",
    "    plt.show()"
   ]
  },
  {
   "cell_type": "code",
   "execution_count": 31,
   "metadata": {
    "collapsed": true
   },
   "outputs": [],
   "source": [
    "def plot_together(iter_list,cost_list,test_list):\n",
    "    plt.plot(iter_list,cost_list,'r--',label='Training(In-sample) Error')\n",
    "    plt.plot(iter_list,test_list,'b--',label='Test(Out-of-sample) Error')\n",
    "    plt.legend()\n",
    "    plt.xlabel('Iterations ->')\n",
    "    plt.ylabel('Cost')\n",
    "    plt.show()"
   ]
  },
  {
   "cell_type": "code",
   "execution_count": 15,
   "metadata": {
    "collapsed": true
   },
   "outputs": [],
   "source": [
    "def sigmoid(x):\n",
    "    return expit(x)\n",
    "def tanh(x):\n",
    "    return np.tanh(x)\n"
   ]
  },
  {
   "cell_type": "code",
   "execution_count": 16,
   "metadata": {
    "collapsed": true
   },
   "outputs": [],
   "source": [
    "def activation_func(z,func='sigmoid'):\n",
    "    if(func=='sigmoid'):\n",
    "        return sigmoid(z)\n",
    "    else:\n",
    "        #print(\"returning tanhz, \",tanh(z))\n",
    "        return tanh(z)"
   ]
  },
  {
   "cell_type": "code",
   "execution_count": 17,
   "metadata": {
    "collapsed": true
   },
   "outputs": [],
   "source": [
    "def derivative_sigmoid(z):\n",
    "    g_z=sigmoid(z)\n",
    "    return g_z*(1-g_z)\n",
    "def derivative_tanh(z):\n",
    "    g_z=tanh(z)\n",
    "    return (1-g_z*g_z)"
   ]
  },
  {
   "cell_type": "code",
   "execution_count": 18,
   "metadata": {
    "collapsed": true
   },
   "outputs": [],
   "source": [
    "def cross_entropy(Y,Y_pred):\n",
    "    loss=0.0\n",
    "    m=len(Y)\n",
    "    for i in range(m):\n",
    "        if (np.argmax(Y[i]==0)):\n",
    "            loss+=(-1.0)*np.log(Y_pred[i][0])\n",
    "            #loss+=(-1.0)*np.log(np.exp(Y_pred[i][0])/np.sum(np.exp(Y_pred[i])))\n",
    "        else:\n",
    "            loss+=(-1.0)*np.log(Y_pred[i][1])\n",
    "            #loss+=(-1.0)*np.log(np.exp(Y_pred[i][1])/np.sum(np.exp(Y_pred[i])))\n",
    "    return (loss/m)"
   ]
  },
  {
   "cell_type": "code",
   "execution_count": 19,
   "metadata": {
    "collapsed": true
   },
   "outputs": [],
   "source": [
    "def mse(Y,Y_pred):\n",
    "    m=len(Y)\n",
    "    J = np.sum((Y_pred - Y) ** 2)/(2 * m)\n",
    "    return J"
   ]
  },
  {
   "cell_type": "code",
   "execution_count": 54,
   "metadata": {
    "collapsed": true
   },
   "outputs": [],
   "source": [
    "def predict(W,b,X,dim):\n",
    "    y_pred=list()\n",
    "    L=len(dim)-1\n",
    "    N=len(X)\n",
    "    threshold=0.2\n",
    "    a=dict()\n",
    "    z=dict()\n",
    "    \n",
    "    for i in range(1,L+1):\n",
    "        a[i]=np.empty(shape=[1,dim[i]])\n",
    "        z[i]=np.empty(shape=[1,dim[i]])\n",
    "        \n",
    "        \n",
    "    for n in range(N):\n",
    "    \n",
    "        a[0]=X[n]\n",
    "        \n",
    "        # Forward Pass\n",
    "        for l in range(1,L+1):\n",
    "            z[l]=a[l-1].dot(W[l])+b[l]\n",
    "            a[l]=activation_func(z[l],'tanh')\n",
    "            \n",
    "\n",
    "        z[L]-= np.max(z[L]) \n",
    "        a[L] = np.exp(z[L]) / np.sum(np.exp(z[L])) \n",
    "        a[L]=a[L].reshape(-1) \n",
    "        y_pred.append(a[L])\n",
    "        \n",
    "    y_pred=np.asarray(y_pred)\n",
    "    return y_pred"
   ]
  },
  {
   "cell_type": "code",
   "execution_count": 51,
   "metadata": {
    "collapsed": true
   },
   "outputs": [],
   "source": [
    "def predict_as_one_hot(W,b,X,dim):\n",
    "    y_pred=list()\n",
    "    L=len(dim)-1\n",
    "    N=len(X)\n",
    "    threshold=0.2\n",
    "    a=dict()\n",
    "    z=dict()\n",
    "    \n",
    "    for i in range(1,L+1):\n",
    "        a[i]=np.empty(shape=[1,dim[i]])\n",
    "        z[i]=np.empty(shape=[1,dim[i]])\n",
    "        \n",
    "        \n",
    "    for n in range(N):\n",
    "    \n",
    "        a[0]=X[n]\n",
    "        \n",
    "        # Forward Pass\n",
    "        for l in range(1,L+1):\n",
    "            z[l]=a[l-1].dot(W[l])+b[l]\n",
    "            a[l]=activation_func(z[l],'tanh')\n",
    "            \n",
    "\n",
    "        z[L]-= np.max(z[L]) \n",
    "        a[L] = np.exp(z[L]) / np.sum(np.exp(z[L])) \n",
    "        a[L]=a[L].reshape(-1)\n",
    "        if (a[L][0]>=a[L][1]):\n",
    "            a[L]=[1,0]\n",
    "        else:\n",
    "            a[L]=[0,1] \n",
    "        y_pred.append(a[L])\n",
    "        \n",
    "    y_pred=np.asarray(y_pred)\n",
    "    return y_pred"
   ]
  },
  {
   "cell_type": "code",
   "execution_count": 5,
   "metadata": {
    "collapsed": true
   },
   "outputs": [],
   "source": [
    "def neural_network(learning_rate,dim,n_epoch,activation_func_name,train_X,train_Y,test_X,test_Y):\n",
    "    L=len(dim)-1\n",
    "    threshold=-0.1\n",
    "    \n",
    "    W=dict()\n",
    "    b=dict()\n",
    "    a=dict()\n",
    "    z=dict()\n",
    "    delta=dict()\n",
    "    \n",
    "    lambda_reg=0.005\n",
    "    keep_prob=0.6\n",
    "    \n",
    "    tolerance=1e-5\n",
    "    cost_old=999999\n",
    "    \n",
    "    N=len(train_X)\n",
    "    a[0]=np.empty(shape=[1,dim[0]])\n",
    "    \n",
    "    for i in range(1,L+1):\n",
    "        W[i]=np.random.randn(dim[i-1],dim[i])/np.sqrt(dim[i-1])\n",
    "        b[i]=np.random.randn(1,dim[i])/np.sqrt(dim[i])\n",
    "        \n",
    "    cost_list=list()  \n",
    "    iter_list=list()\n",
    "    test_set_cost_list=list()\n",
    "    iter_count=0\n",
    "    \n",
    "    for epoch in range(n_epoch):\n",
    "        \n",
    "        if(epoch%5==0 and epoch!=0 and learning_rate>1e-5):\n",
    "            learning_rate=learning_rate/2\n",
    "            \n",
    "        print(\"Epoch\",epoch)\n",
    "        z=zip(train_X,train_Y)\n",
    "        random.shuffle(z)\n",
    "        train_X,train_Y=zip(*z)\n",
    "        for n in range(N):\n",
    "\n",
    "            a[0]=train_X[n]\n",
    "            y=train_Y[n]\n",
    "            \n",
    "            # Forward Pass\n",
    "            for l in range(1,L+1):\n",
    "                z[l]=a[l-1].dot(W[l])+b[l]\n",
    "                a[l]=activation_func(z[l],'tanh')\n",
    "                mask=(np.random.rand(*a[l].shape) < keep_prob)/keep_prob\n",
    "                if(l!=L):\n",
    "                    a[l]*= mask\n",
    "\n",
    "\n",
    "            #a[L]-= np.max(a[L]) \n",
    "            a[L] = np.exp(z[L]) / np.sum(np.exp(z[L])) \n",
    "            \n",
    "            \n",
    "                \n",
    "            # Backward Pass\n",
    "\n",
    "            delta[L]=(a[L]-y).T\n",
    "            \n",
    "            for l in range(L-1,0,-1):\n",
    "                tmp=np.asarray(np.dot(W[l+1],delta[l+1]))\n",
    "                delta[l]=np.asarray(np.asarray(derivative_tanh(z[l])).T*tmp)\n",
    "                \n",
    "            # Update weights\n",
    "            for l in range(1,L+1):\n",
    "                W[l]=(1-learning_rate*lambda_reg)*W[l]-learning_rate*(delta[l]*a[l-1]).T\n",
    "                #W[l]=W[l]-learning_rate*(delta[l]*a[l-1]).T\n",
    "                b[l]-=learning_rate*(delta[l]).T\n",
    "            \n",
    "               \n",
    "            if(iter_count%2000==0):\n",
    "                cost=cross_entropy(train_Y,predict(W,b,train_X,dim))\n",
    "                test_cost=mse(test_Y,predict(W,b,test_X,dim))\n",
    "                test_set_cost_list.append(test_cost)\n",
    "                cost_list.append(cost)\n",
    "                iter_list.append(iter_count)\n",
    "            iter_count+=1\n",
    "            \n",
    "    return cost_list,test_set_cost_list,iter_list,W,b\n",
    "\n",
    "    "
   ]
  },
  {
   "cell_type": "code",
   "execution_count": 23,
   "metadata": {
    "collapsed": true
   },
   "outputs": [],
   "source": [
    "def get_data():\n",
    "    \n",
    "    # NOTATION [HAM,SPAM]\n",
    "    \n",
    "    messages =pd.read_csv('Assignment_2_data.txt', sep='\\t', quoting=csv.QUOTE_NONE,names=[\"label\", \"message\"],encoding='utf8')\n",
    "    word_index=dict()\n",
    "    messages=shuffle(messages)\n",
    "    vocab=0\n",
    "    for index,rows in messages.iterrows():\n",
    "        sentence=rows['message']\n",
    "        tokens = nltk.word_tokenize(sentence)\n",
    "        tokens=[w for w in tokens if not w in stopwords.words('english')]\n",
    "        tokens=[token.lower() for token in tokens]\n",
    "        wordset=[wordnet_lemmatizer.lemmatize(token) for token in tokens]\n",
    "        wordset=list(set(wordset))\n",
    "        for word in wordset:\n",
    "            if not word in word_index:\n",
    "                word_index[word]=vocab\n",
    "                vocab+=1\n",
    "    X=list()\n",
    "    Y=list()\n",
    "    for index,rows in messages.iterrows():\n",
    "        sentence=rows['message']\n",
    "        tokens = nltk.word_tokenize(sentence)\n",
    "        tokens=[w for w in tokens if not w in stopwords.words('english')]\n",
    "        tokens=[token.lower() for token in tokens]\n",
    "        wordset=[wordnet_lemmatizer.lemmatize(token) for token in tokens]\n",
    "        wordset=list(set(wordset))\n",
    "        tmp_list=[0.0]*vocab\n",
    "        #print(wordset)\n",
    "        for word in wordset:\n",
    "            tmp_list[word_index[word]]=1.0\n",
    "        if (rows['label']=='ham'):\n",
    "            Y.append(0)   #index\n",
    "        else:\n",
    "            Y.append(1)   #index\n",
    "        X.append(tmp_list)\n",
    "    X=np.array(X)\n",
    "    Y=np.array(Y)\n",
    "    data=pd.DataFrame(X) \n",
    "    #data2=pd.DataFrame(Y)\n",
    "    #data=pd.concat([data,data2],axis=1)\n",
    "    data = data.assign(Y=pd.Series(Y).values)\n",
    "    return X,Y,vocab,data,messages\n",
    "            \n",
    "        \n",
    "    \n",
    "    "
   ]
  },
  {
   "cell_type": "code",
   "execution_count": 24,
   "metadata": {
    "collapsed": true
   },
   "outputs": [],
   "source": [
    "def get_one_hot(targets, nb_classes):\n",
    "    return np.eye(nb_classes)[np.array(targets).reshape(-1)]"
   ]
  },
  {
   "cell_type": "code",
   "execution_count": 25,
   "metadata": {
    "collapsed": true
   },
   "outputs": [],
   "source": [
    "def train_test_split(X,Y,ratio):\n",
    "    train_length=(int)((1-ratio)*len(data))\n",
    "    train_X=X[0:train_length+1]\n",
    "    test_X=X[train_length+1:]\n",
    "    train_Y=get_one_hot(Y[0:train_length+1],2)\n",
    "    test_Y=get_one_hot(Y[train_length+1:],2)\n",
    "    return train_X,train_Y,test_X,test_Y"
   ]
  },
  {
   "cell_type": "code",
   "execution_count": 55,
   "metadata": {
    "collapsed": true
   },
   "outputs": [],
   "source": [
    "t = int( time.time() * 1000.0 )\n",
    "np.random.seed( ((t & 0xff000000) >> 24)+((t & 0x00ff0000)>>8) +((t & 0x0000ff00)<<8)+((t & 0x000000ff)<<24))\n",
    "X,Y,V,data,messages=get_data()"
   ]
  },
  {
   "cell_type": "code",
   "execution_count": 56,
   "metadata": {},
   "outputs": [
    {
     "data": {
      "text/html": [
       "<div>\n",
       "<style>\n",
       "    .dataframe thead tr:only-child th {\n",
       "        text-align: right;\n",
       "    }\n",
       "\n",
       "    .dataframe thead th {\n",
       "        text-align: left;\n",
       "    }\n",
       "\n",
       "    .dataframe tbody tr th {\n",
       "        vertical-align: top;\n",
       "    }\n",
       "</style>\n",
       "<table border=\"1\" class=\"dataframe\">\n",
       "  <thead>\n",
       "    <tr style=\"text-align: right;\">\n",
       "      <th></th>\n",
       "      <th>0</th>\n",
       "      <th>1</th>\n",
       "      <th>2</th>\n",
       "      <th>3</th>\n",
       "      <th>4</th>\n",
       "      <th>5</th>\n",
       "      <th>6</th>\n",
       "      <th>7</th>\n",
       "      <th>8</th>\n",
       "      <th>9</th>\n",
       "      <th>...</th>\n",
       "      <th>9256</th>\n",
       "      <th>9257</th>\n",
       "      <th>9258</th>\n",
       "      <th>9259</th>\n",
       "      <th>9260</th>\n",
       "      <th>9261</th>\n",
       "      <th>9262</th>\n",
       "      <th>9263</th>\n",
       "      <th>9264</th>\n",
       "      <th>Y</th>\n",
       "    </tr>\n",
       "  </thead>\n",
       "  <tbody>\n",
       "    <tr>\n",
       "      <th>0</th>\n",
       "      <td>1.0</td>\n",
       "      <td>1.0</td>\n",
       "      <td>1.0</td>\n",
       "      <td>1.0</td>\n",
       "      <td>1.0</td>\n",
       "      <td>1.0</td>\n",
       "      <td>1.0</td>\n",
       "      <td>1.0</td>\n",
       "      <td>1.0</td>\n",
       "      <td>1.0</td>\n",
       "      <td>...</td>\n",
       "      <td>0.0</td>\n",
       "      <td>0.0</td>\n",
       "      <td>0.0</td>\n",
       "      <td>0.0</td>\n",
       "      <td>0.0</td>\n",
       "      <td>0.0</td>\n",
       "      <td>0.0</td>\n",
       "      <td>0.0</td>\n",
       "      <td>0.0</td>\n",
       "      <td>1</td>\n",
       "    </tr>\n",
       "    <tr>\n",
       "      <th>1</th>\n",
       "      <td>0.0</td>\n",
       "      <td>0.0</td>\n",
       "      <td>0.0</td>\n",
       "      <td>0.0</td>\n",
       "      <td>0.0</td>\n",
       "      <td>0.0</td>\n",
       "      <td>0.0</td>\n",
       "      <td>0.0</td>\n",
       "      <td>0.0</td>\n",
       "      <td>0.0</td>\n",
       "      <td>...</td>\n",
       "      <td>0.0</td>\n",
       "      <td>0.0</td>\n",
       "      <td>0.0</td>\n",
       "      <td>0.0</td>\n",
       "      <td>0.0</td>\n",
       "      <td>0.0</td>\n",
       "      <td>0.0</td>\n",
       "      <td>0.0</td>\n",
       "      <td>0.0</td>\n",
       "      <td>0</td>\n",
       "    </tr>\n",
       "    <tr>\n",
       "      <th>2</th>\n",
       "      <td>0.0</td>\n",
       "      <td>0.0</td>\n",
       "      <td>0.0</td>\n",
       "      <td>0.0</td>\n",
       "      <td>0.0</td>\n",
       "      <td>0.0</td>\n",
       "      <td>0.0</td>\n",
       "      <td>0.0</td>\n",
       "      <td>0.0</td>\n",
       "      <td>0.0</td>\n",
       "      <td>...</td>\n",
       "      <td>0.0</td>\n",
       "      <td>0.0</td>\n",
       "      <td>0.0</td>\n",
       "      <td>0.0</td>\n",
       "      <td>0.0</td>\n",
       "      <td>0.0</td>\n",
       "      <td>0.0</td>\n",
       "      <td>0.0</td>\n",
       "      <td>0.0</td>\n",
       "      <td>0</td>\n",
       "    </tr>\n",
       "    <tr>\n",
       "      <th>3</th>\n",
       "      <td>0.0</td>\n",
       "      <td>0.0</td>\n",
       "      <td>0.0</td>\n",
       "      <td>0.0</td>\n",
       "      <td>0.0</td>\n",
       "      <td>0.0</td>\n",
       "      <td>0.0</td>\n",
       "      <td>0.0</td>\n",
       "      <td>0.0</td>\n",
       "      <td>0.0</td>\n",
       "      <td>...</td>\n",
       "      <td>0.0</td>\n",
       "      <td>0.0</td>\n",
       "      <td>0.0</td>\n",
       "      <td>0.0</td>\n",
       "      <td>0.0</td>\n",
       "      <td>0.0</td>\n",
       "      <td>0.0</td>\n",
       "      <td>0.0</td>\n",
       "      <td>0.0</td>\n",
       "      <td>0</td>\n",
       "    </tr>\n",
       "    <tr>\n",
       "      <th>4</th>\n",
       "      <td>0.0</td>\n",
       "      <td>0.0</td>\n",
       "      <td>0.0</td>\n",
       "      <td>0.0</td>\n",
       "      <td>0.0</td>\n",
       "      <td>0.0</td>\n",
       "      <td>0.0</td>\n",
       "      <td>0.0</td>\n",
       "      <td>0.0</td>\n",
       "      <td>0.0</td>\n",
       "      <td>...</td>\n",
       "      <td>0.0</td>\n",
       "      <td>0.0</td>\n",
       "      <td>0.0</td>\n",
       "      <td>0.0</td>\n",
       "      <td>0.0</td>\n",
       "      <td>0.0</td>\n",
       "      <td>0.0</td>\n",
       "      <td>0.0</td>\n",
       "      <td>0.0</td>\n",
       "      <td>0</td>\n",
       "    </tr>\n",
       "  </tbody>\n",
       "</table>\n",
       "<p>5 rows × 9266 columns</p>\n",
       "</div>"
      ],
      "text/plain": [
       "     0    1    2    3    4    5    6    7    8    9 ...  9256  9257  9258  \\\n",
       "0  1.0  1.0  1.0  1.0  1.0  1.0  1.0  1.0  1.0  1.0 ...   0.0   0.0   0.0   \n",
       "1  0.0  0.0  0.0  0.0  0.0  0.0  0.0  0.0  0.0  0.0 ...   0.0   0.0   0.0   \n",
       "2  0.0  0.0  0.0  0.0  0.0  0.0  0.0  0.0  0.0  0.0 ...   0.0   0.0   0.0   \n",
       "3  0.0  0.0  0.0  0.0  0.0  0.0  0.0  0.0  0.0  0.0 ...   0.0   0.0   0.0   \n",
       "4  0.0  0.0  0.0  0.0  0.0  0.0  0.0  0.0  0.0  0.0 ...   0.0   0.0   0.0   \n",
       "\n",
       "   9259  9260  9261  9262  9263  9264  Y  \n",
       "0   0.0   0.0   0.0   0.0   0.0   0.0  1  \n",
       "1   0.0   0.0   0.0   0.0   0.0   0.0  0  \n",
       "2   0.0   0.0   0.0   0.0   0.0   0.0  0  \n",
       "3   0.0   0.0   0.0   0.0   0.0   0.0  0  \n",
       "4   0.0   0.0   0.0   0.0   0.0   0.0  0  \n",
       "\n",
       "[5 rows x 9266 columns]"
      ]
     },
     "execution_count": 56,
     "metadata": {},
     "output_type": "execute_result"
    }
   ],
   "source": [
    "data.head()"
   ]
  },
  {
   "cell_type": "code",
   "execution_count": 57,
   "metadata": {},
   "outputs": [
    {
     "data": {
      "text/html": [
       "<div>\n",
       "<style>\n",
       "    .dataframe thead tr:only-child th {\n",
       "        text-align: right;\n",
       "    }\n",
       "\n",
       "    .dataframe thead th {\n",
       "        text-align: left;\n",
       "    }\n",
       "\n",
       "    .dataframe tbody tr th {\n",
       "        vertical-align: top;\n",
       "    }\n",
       "</style>\n",
       "<table border=\"1\" class=\"dataframe\">\n",
       "  <thead>\n",
       "    <tr style=\"text-align: right;\">\n",
       "      <th></th>\n",
       "      <th>label</th>\n",
       "      <th>message</th>\n",
       "    </tr>\n",
       "  </thead>\n",
       "  <tbody>\n",
       "    <tr>\n",
       "      <th>630</th>\n",
       "      <td>spam</td>\n",
       "      <td>Todays Vodafone numbers ending with 4882 are s...</td>\n",
       "    </tr>\n",
       "    <tr>\n",
       "      <th>280</th>\n",
       "      <td>ham</td>\n",
       "      <td>All done? All handed in? Celebrations in full ...</td>\n",
       "    </tr>\n",
       "    <tr>\n",
       "      <th>5567</th>\n",
       "      <td>ham</td>\n",
       "      <td>Huh y lei...</td>\n",
       "    </tr>\n",
       "    <tr>\n",
       "      <th>2573</th>\n",
       "      <td>ham</td>\n",
       "      <td>The house is on the water with a dock, a boat ...</td>\n",
       "    </tr>\n",
       "    <tr>\n",
       "      <th>1818</th>\n",
       "      <td>ham</td>\n",
       "      <td>Well i will watch shrek in 3D!!B)</td>\n",
       "    </tr>\n",
       "  </tbody>\n",
       "</table>\n",
       "</div>"
      ],
      "text/plain": [
       "     label                                            message\n",
       "630   spam  Todays Vodafone numbers ending with 4882 are s...\n",
       "280    ham  All done? All handed in? Celebrations in full ...\n",
       "5567   ham                                       Huh y lei...\n",
       "2573   ham  The house is on the water with a dock, a boat ...\n",
       "1818   ham                  Well i will watch shrek in 3D!!B)"
      ]
     },
     "execution_count": 57,
     "metadata": {},
     "output_type": "execute_result"
    }
   ],
   "source": [
    "messages.head()"
   ]
  },
  {
   "cell_type": "code",
   "execution_count": 58,
   "metadata": {
    "collapsed": true
   },
   "outputs": [],
   "source": [
    "train_X,train_Y,test_X,test_Y=train_test_split(X,Y,0.2)"
   ]
  },
  {
   "cell_type": "code",
   "execution_count": 59,
   "metadata": {},
   "outputs": [
    {
     "name": "stdout",
     "output_type": "stream",
     "text": [
      "('Epoch', 0)\n",
      "('Epoch', 1)\n",
      "('Epoch', 2)\n",
      "('Epoch', 3)\n",
      "('Epoch', 4)\n",
      "('Epoch', 5)\n",
      "('Epoch', 6)\n",
      "('Epoch', 7)\n",
      "('Epoch', 8)\n",
      "('Epoch', 9)\n",
      "('Epoch', 10)\n",
      "('Epoch', 11)\n",
      "('Epoch', 12)\n",
      "('Epoch', 13)\n",
      "('Epoch', 14)\n",
      "('Epoch', 15)\n",
      "('Epoch', 16)\n",
      "('Epoch', 17)\n",
      "('Epoch', 18)\n",
      "('Epoch', 19)\n",
      "('Epoch', 20)\n",
      "('Epoch', 21)\n",
      "('Epoch', 22)\n",
      "('Epoch', 23)\n",
      "('Epoch', 24)\n",
      "('Epoch', 25)\n",
      "('Epoch', 26)\n",
      "('Epoch', 27)\n",
      "('Epoch', 28)\n",
      "('Epoch', 29)\n"
     ]
    },
    {
     "data": {
      "image/png": "[encoded data removed]",
      "text/plain": [
       "<matplotlib.figure.Figure at 0x7f6db61edf10>"
      ]
     },
     "metadata": {},
     "output_type": "display_data"
    }
   ],
   "source": [
    "dim=[V,100,50,2]\n",
    "cost_list,test_cost_list,iter_list,W,b=neural_network(0.1,dim,30,'tanh',train_X,train_Y,test_X,test_Y)\n",
    "plot_cost(iter_list,cost_list)"
   ]
  },
  {
   "cell_type": "code",
   "execution_count": 60,
   "metadata": {},
   "outputs": [
    {
     "data": {
      "text/plain": [
       "0.99012567324955114"
      ]
     },
     "execution_count": 60,
     "metadata": {},
     "output_type": "execute_result"
    }
   ],
   "source": [
    "y_pred=predict_as_one_hot(W,b,test_X,dim)\n",
    "accuracy_score(test_Y,y_pred,normalize=True)"
   ]
  },
  {
   "cell_type": "code",
   "execution_count": 61,
   "metadata": {},
   "outputs": [
    {
     "data": {
      "image/png": "[encoded data removed]",
      "text/plain": [
       "<matplotlib.figure.Figure at 0x7f6db5f14e10>"
      ]
     },
     "metadata": {},
     "output_type": "display_data"
    }
   ],
   "source": [
    "plot_together(iter_list,cost_list,test_cost_list)"
   ]
  },
  {
   "cell_type": "code",
   "execution_count": null,
   "metadata": {
    "collapsed": true
   },
   "outputs": [],
   "source": [
    "plot_cost(iter_list,test_cost_list)"
   ]
  },
  {
   "cell_type": "code",
   "execution_count": null,
   "metadata": {
    "collapsed": true
   },
   "outputs": [],
   "source": [
    "precision_recall_fscore_support(test_Y,y_pred,average='weighted')"
   ]
  }
 ],
 "metadata": {
  "kernelspec": {
   "display_name": "Python 2",
   "language": "python",
   "name": "python2"
  },
  "language_info": {
   "codemirror_mode": {
    "name": "ipython",
    "version": 2
   },
   "file_extension": ".py",
   "mimetype": "text/x-python",
   "name": "python",
   "nbconvert_exporter": "python",
   "pygments_lexer": "ipython2",
   "version": "2.7.12"
  }
 },
 "nbformat": 4,
 "nbformat_minor": 2
}
