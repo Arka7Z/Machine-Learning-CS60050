{
 "cells": [
  {
   "cell_type": "code",
   "execution_count": 1,
   "metadata": {
    "collapsed": true
   },
   "outputs": [],
   "source": [
    "import numpy as np\n",
    "import pandas as pd\n",
    "import matplotlib.pyplot as plt\n",
    "import time\n",
    "%matplotlib inline\n"
   ]
  },
  {
   "cell_type": "code",
   "execution_count": 2,
   "metadata": {
    "collapsed": true
   },
   "outputs": [],
   "source": [
    "def get_data(filename):\n",
    "    data=pd.read_csv('housing.csv')\n",
    "    data=(data-data.mean())/data.std()\n",
    "    return data"
   ]
  },
  {
   "cell_type": "code",
   "execution_count": 3,
   "metadata": {
    "collapsed": true
   },
   "outputs": [],
   "source": [
    "def get_X_Y(data):\n",
    "    m=len(data)\n",
    "    X0=np.ones(m)\n",
    "    X1=data['sqft'].astype(float)\n",
    "    X2=data['floors'].astype(float)\n",
    "    X3=data['bedrooms'].astype(float)\n",
    "    X4=data['bathrooms'].astype(float)\n",
    "    Y=np.array(data['price'].astype(float))\n",
    "    X=np.array([X0,X1,X2,X3,X4]).T\n",
    "    return X,Y\n",
    "    "
   ]
  },
  {
   "cell_type": "code",
   "execution_count": 4,
   "metadata": {
    "collapsed": true
   },
   "outputs": [],
   "source": [
    "def cost_function(X, Y, Theta):\n",
    "    m = len(X)\n",
    "    J = np.sum((X.dot(Theta) - Y) ** 2)/(2 * m)\n",
    "    return J\n",
    "def rmse(Y, Y_pred):\n",
    "    rmse = np.sqrt(sum((Y - Y_pred) ** 2) / len(Y))\n",
    "    return rmse\n",
    "def get_rmse(Theta):\n",
    "    X,Y=get_X_Y(test_data)\n",
    "    Y_Pred=X.dot(Theta)\n",
    "    return rmse(Y,Y_Pred)\n"
   ]
  },
  {
   "cell_type": "code",
   "execution_count": 5,
   "metadata": {
    "collapsed": true
   },
   "outputs": [],
   "source": [
    "def plot_cost(iter_list,cost_list):\n",
    "    plt.plot(iter_list,cost_list,'r.')\n",
    "    plt.xlabel('Iterations ->')\n",
    "    plt.ylabel('Cost')\n",
    "    plt.show()"
   ]
  },
  {
   "cell_type": "code",
   "execution_count": 6,
   "metadata": {
    "collapsed": true
   },
   "outputs": [],
   "source": [
    "def plot_rmse(alpha_list,rmse_list):\n",
    "    plt.plot(alpha_list,rmse_list,'r.')\n",
    "    plt.xlabel('Learning Rate ->')\n",
    "    plt.ylabel('RMSE')\n",
    "    plt.show()"
   ]
  },
  {
   "cell_type": "code",
   "execution_count": 11,
   "metadata": {},
   "outputs": [],
   "source": [
    "def gradientDescent(X, Y, Theta, alpha, m, numIterations,lamda=0):\n",
    "    m = len(Y)\n",
    "    cost_list=list()\n",
    "    iter_list=list()\n",
    "    tolerance = 1e-5\n",
    "    theta_old=Theta\n",
    "    for iteration in range(numIterations):\n",
    "        # Hypothesis Values\n",
    "        h = X.dot(Theta)\n",
    "        loss = h - Y\n",
    "        gradient = (X.T.dot(loss))/ m\n",
    "        Theta = (1-(alpha/m)*lamda)*Theta - alpha * gradient\n",
    "        if np.sum(abs(Theta - theta_old)) < tolerance:\n",
    "            print(\"CONVERGED after \"+str(iteration)+\" iterations\")\n",
    "            break\n",
    "        cost = cost_function(X, Y, Theta)\n",
    "        cost_list.append(cost)\n",
    "        #iter_list.append(iteration)\n",
    "        theta_old=Theta\n",
    "        \n",
    "    return Theta,cost_list,iter_list"
   ]
  },
  {
   "cell_type": "code",
   "execution_count": 12,
   "metadata": {
    "collapsed": true
   },
   "outputs": [],
   "source": [
    "def irls_descent(X, Y, Theta, alpha, m, numIterations):\n",
    "    m = len(Y)\n",
    "    cost_list=list()\n",
    "    iter_list=list()\n",
    "    tolerance = 1e-6\n",
    "    theta_old=Theta\n",
    "    Z=X.T.dot(X)\n",
    "    for iteration in range(numIterations):\n",
    "        # Hypothesis Values\n",
    "        h = X.dot(Theta)\n",
    "        loss = h - Y\n",
    "        gradient = (X.T.dot(loss))/ m\n",
    "        Theta = Theta - alpha * (np.linalg.inv(Z)).dot(gradient)\n",
    "        cost = cost_function(X, Y, Theta)\n",
    "        cost_list.append(cost)\n",
    "        iter_list.append(iteration)\n",
    "        theta_old=Theta\n",
    "        \n",
    "    return Theta,cost_list,iter_list"
   ]
  },
  {
   "cell_type": "code",
   "execution_count": 13,
   "metadata": {
    "collapsed": true
   },
   "outputs": [],
   "source": [
    "data=get_data('housing.csv')\n",
    "train_length=(int)(0.8*len(data))\n",
    "train_data=data[0:train_length+1]\n",
    "test_data=data[train_length+1:]"
   ]
  },
  {
   "cell_type": "code",
   "execution_count": 22,
   "metadata": {
    "scrolled": false
   },
   "outputs": [
    {
     "name": "stdout",
     "output_type": "stream",
     "text": [
      "CONVERGED after 10964 iterations\n",
      "CONVERGED after 8134 iterations\n",
      "CONVERGED after 5524 iterations\n",
      "CONVERGED after 3737 iterations\n",
      "CONVERGED after 2413 iterations\n",
      "CONVERGED after 1651 iterations\n",
      "CONVERGED after 1089 iterations\n",
      "CONVERGED after 748 iterations\n",
      "CONVERGED after 440 iterations\n",
      "CONVERGED after 289 iterations\n",
      "CONVERGED after 156 iterations\n",
      "CONVERGED after 104 iterations\n",
      "CONVERGED after 74 iterations\n",
      "CONVERGED after 37 iterations\n",
      "CONVERGED after 31 iterations\n"
     ]
    },
    {
     "name": "stderr",
     "output_type": "stream",
     "text": [
      "/usr/local/lib/python2.7/dist-packages/ipykernel_launcher.py:3: RuntimeWarning: overflow encountered in square\n",
      "  This is separate from the ipykernel package so we can avoid doing imports until\n",
      "/usr/local/lib/python2.7/dist-packages/ipykernel_launcher.py:12: RuntimeWarning: invalid value encountered in subtract\n",
      "  if sys.path[0] == '':\n"
     ]
    },
    {
     "data": {
      "image/png": "[encoded data removed]",
      "text/plain": [
       "<matplotlib.figure.Figure at 0x7f51d2ad0190>"
      ]
     },
     "metadata": {},
     "output_type": "display_data"
    }
   ],
   "source": [
    "X,Y=get_X_Y(train_data)\n",
    "rmse_list=list()\n",
    "alpha_list=list()\n",
    "lamda=0\n",
    "learning_rates=10**np.random.uniform(-6,1,50)\n",
    "learning_rates=list()\n",
    "temp=0.001\n",
    "while temp<1.4:\n",
    "    learning_rates.append(temp)\n",
    "    temp*=2\n",
    "for learning_rate in 10**np.linspace(-3,1,20):\n",
    "    t = int( time.time() * 1000.0 )\n",
    "    np.random.seed( ((t & 0xff000000) >> 24)+((t & 0x00ff0000)>>8) +((t & 0x0000ff00)<<8)+((t & 0x000000ff)<<24))\n",
    "    Theta=np.random.randn(5)\n",
    "    Theta,cost_list,iter_list=gradientDescent(X,Y,Theta,learning_rate,len(train_data), 20000)\n",
    "    rmse_list.append(get_rmse(Theta))\n",
    "    alpha_list.append(learning_rate)\n",
    "plot_rmse(alpha_list,rmse_list)\n"
   ]
  },
  {
   "cell_type": "code",
   "execution_count": 26,
   "metadata": {},
   "outputs": [
    {
     "data": {
      "image/png": "[encoded data removed]",
      "text/plain": [
       "<matplotlib.figure.Figure at 0x7f51d299f310>"
      ]
     },
     "metadata": {},
     "output_type": "display_data"
    }
   ],
   "source": [
    "X,Y=get_X_Y(train_data)\n",
    "rmse_list=list()\n",
    "alpha_list=list()\n",
    "lamda=0\n",
    "for learning_rate in 10**np.linspace(-1,4,50):\n",
    "    t = int( time.time() * 1000.0 )\n",
    "    np.random.seed( ((t & 0xff000000) >> 24)+((t & 0x00ff0000)>>8) +((t & 0x0000ff00)<<8)+((t & 0x000000ff)<<24))\n",
    "    Theta=np.random.randn(5)\n",
    "    Theta,cost_list,iter_list=irls_descent(X,Y,Theta,learning_rate,len(train_data), 10000)\n",
    "    rmse_list.append(get_rmse(Theta))\n",
    "    alpha_list.append(learning_rate)\n",
    "plot_rmse(alpha_list,rmse_list)\n"
   ]
  },
  {
   "cell_type": "code",
   "execution_count": 27,
   "metadata": {},
   "outputs": [
    {
     "data": {
      "text/plain": [
       "0.85697964089489209"
      ]
     },
     "execution_count": 27,
     "metadata": {},
     "output_type": "execute_result"
    }
   ],
   "source": [
    "min(rmse_list)"
   ]
  },
  {
   "cell_type": "code",
   "execution_count": null,
   "metadata": {
    "collapsed": true
   },
   "outputs": [],
   "source": []
  }
 ],
 "metadata": {
  "kernelspec": {
   "display_name": "Python 2",
   "language": "python",
   "name": "python2"
  },
  "language_info": {
   "codemirror_mode": {
    "name": "ipython",
    "version": 2
   },
   "file_extension": ".py",
   "mimetype": "text/x-python",
   "name": "python",
   "nbconvert_exporter": "python",
   "pygments_lexer": "ipython2",
   "version": "2.7.12"
  }
 },
 "nbformat": 4,
 "nbformat_minor": 2
}
