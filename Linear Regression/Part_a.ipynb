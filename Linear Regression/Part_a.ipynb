{
 "cells": [
  {
   "cell_type": "code",
   "execution_count": 145,
   "metadata": {
    "collapsed": true
   },
   "outputs": [],
   "source": [
    "import numpy as np\n",
    "import pandas as pd\n",
    "import matplotlib.pyplot as plt\n",
    "import time\n",
    "%matplotlib inline\n"
   ]
  },
  {
   "cell_type": "code",
   "execution_count": 147,
   "metadata": {},
   "outputs": [],
   "source": [
    "def get_data(filename):\n",
    "    data=pd.read_csv('housing.csv')\n",
    "    data=(data-data.mean())/data.std()\n",
    "    return data\n",
    "tt = get_data(\"housing.csv\")"
   ]
  },
  {
   "cell_type": "code",
   "execution_count": 148,
   "metadata": {
    "collapsed": true
   },
   "outputs": [],
   "source": [
    "def get_X_Y(data):\n",
    "    m=len(data)\n",
    "    X0=np.ones(m)\n",
    "    X1=data['sqft'].astype(float)\n",
    "    X2=data['floors'].astype(float)\n",
    "    X3=data['bedrooms'].astype(float)\n",
    "    X4=data['bathrooms'].astype(float)\n",
    "    Y=np.array(data['price'].astype(float))\n",
    "    X=np.array([X0,X1,X2,X3,X4]).T\n",
    "    return X,Y\n",
    "    "
   ]
  },
  {
   "cell_type": "code",
   "execution_count": 149,
   "metadata": {
    "collapsed": true
   },
   "outputs": [],
   "source": [
    "def cost_function(X, Y, Theta):\n",
    "    m = len(X)\n",
    "    J = np.sum((X.dot(Theta) - Y) ** 2)/(2 * m)\n",
    "    return J\n",
    "def rmse(Y, Y_pred):\n",
    "    rmse = np.sqrt(sum((Y - Y_pred) ** 2) / len(Y))\n",
    "    return rmse\n",
    "def get_rmse(Theta):\n",
    "    X,Y=get_X_Y(test_data)\n",
    "    Y_Pred=X.dot(Theta)\n",
    "    return rmse(Y,Y_Pred)\n"
   ]
  },
  {
   "cell_type": "code",
   "execution_count": 150,
   "metadata": {
    "collapsed": true
   },
   "outputs": [],
   "source": [
    "def plot_cost(iter_list,cost_list):\n",
    "    plt.plot(iter_list,cost_list,'r.')\n",
    "    plt.xlabel('Iterations ->')\n",
    "    plt.ylabel('Cost')\n",
    "    plt.show()"
   ]
  },
  {
   "cell_type": "code",
   "execution_count": 151,
   "metadata": {
    "collapsed": true
   },
   "outputs": [],
   "source": [
    "def gradientDescent(X, Y, Theta, alpha, m, numIterations,lamda=0):\n",
    "    m = len(Y)\n",
    "    cost_list=list()\n",
    "    iter_list=list()\n",
    "    tolerance = 1e-5\n",
    "    theta_old=Theta\n",
    "    for iteration in range(numIterations):\n",
    "        # Hypothesis Values\n",
    "        h = X.dot(Theta)\n",
    "        loss = h - Y\n",
    "        gradient = (X.T.dot(loss))/ m\n",
    "        Theta = (1-(alpha/m)*lamda)*Theta - alpha * gradient\n",
    "        if np.sum(abs(Theta - theta_old)) < tolerance:\n",
    "            #print(\"CONVERGED after \"+str(iteration)+\" iterations\")\n",
    "            break\n",
    "        cost = cost_function(X, Y, Theta)\n",
    "        cost_list.append(cost)\n",
    "        iter_list.append(iteration)\n",
    "        theta_old=Theta\n",
    "        \n",
    "    return Theta,cost_list,iter_list"
   ]
  },
  {
   "cell_type": "code",
   "execution_count": 152,
   "metadata": {
    "collapsed": true
   },
   "outputs": [],
   "source": [
    "data=get_data('housing.csv')\n",
    "train_length=(int)(0.8*len(data))\n",
    "train_data=data[0:train_length+1]\n",
    "test_data=data[train_length+1:]"
   ]
  },
  {
   "cell_type": "code",
   "execution_count": 158,
   "metadata": {
    "scrolled": false
   },
   "outputs": [],
   "source": [
    "X,Y=get_X_Y(train_data)\n",
    "rmse_list=list()\n",
    "lambda_list=list()\n",
    "lamda=0\n",
    "#for lamda in np.arange(0.0,2.0,0.009):\n",
    "for lamda in 10**np.linspace(-5.0,1.0,60):\n",
    "    t = int( time.time() * 1000.0 )\n",
    "    np.random.seed( ((t & 0xff000000) >> 24)+((t & 0x00ff0000)>>8) +((t & 0x0000ff00)<<8)+((t & 0x000000ff)<<24))\n",
    "    Theta=np.random.rand(5)\n",
    "    Theta,cost_list,iter_list=gradientDescent(X,Y,Theta,0.05,len(train_data), 10000,lamda)\n",
    "    rmse_list.append(get_rmse(Theta))\n",
    "    lambda_list.append(lamda)\n",
    "\n"
   ]
  },
  {
   "cell_type": "code",
   "execution_count": 141,
   "metadata": {
    "collapsed": true
   },
   "outputs": [],
   "source": [
    "for lamda in np.linspace(1.1,5.0,100):\n",
    "    t = int( time.time() * 1000.0 )\n",
    "    np.random.seed( ((t & 0xff000000) >> 24)+((t & 0x00ff0000)>>8) +((t & 0x0000ff00)<<8)+((t & 0x000000ff)<<24))\n",
    "    Theta=np.random.rand(5)\n",
    "    Theta,cost_list,iter_list=gradientDescent(X,Y,Theta,0.05,len(train_data), 10000,lamda)\n",
    "    rmse_list.append(get_rmse(Theta))\n",
    "    lambda_list.append(lamda)"
   ]
  },
  {
   "cell_type": "code",
   "execution_count": 159,
   "metadata": {},
   "outputs": [
    {
     "data": {
      "image/png": "[encoded data removed]",
      "text/plain": [
       "<matplotlib.figure.Figure at 0x7fea0f397610>"
      ]
     },
     "metadata": {},
     "output_type": "display_data"
    }
   ],
   "source": [
    "lambda_list=lambda_list\n",
    "rmse_list=rmse_list\n",
    "plt.plot(lambda_list,rmse_list,'r.')\n",
    "plt.xlabel('lambda ->')\n",
    "plt.ylabel('RMSE')\n",
    "plt.show()"
   ]
  },
  {
   "cell_type": "code",
   "execution_count": 155,
   "metadata": {},
   "outputs": [
    {
     "data": {
      "text/plain": [
       "array([  1.00000000e-05,   2.21221629e-05,   4.89390092e-05,\n",
       "         1.08263673e-04,   2.39502662e-04,   5.29831691e-04,\n",
       "         1.17210230e-03,   2.59294380e-03,   5.73615251e-03,\n",
       "         1.26896100e-02,   2.80721620e-02,   6.21016942e-02,\n",
       "         1.37382380e-01,   3.03919538e-01,   6.72335754e-01,\n",
       "         1.48735211e+00,   3.29034456e+00,   7.27895384e+00,\n",
       "         1.61026203e+01,   3.56224789e+01,   7.88046282e+01,\n",
       "         1.74332882e+02,   3.85662042e+02,   8.53167852e+02,\n",
       "         1.88739182e+03,   4.17531894e+03,   9.23670857e+03,\n",
       "         2.04335972e+04,   4.52035366e+04,   1.00000000e+05])"
      ]
     },
     "execution_count": 155,
     "metadata": {},
     "output_type": "execute_result"
    }
   ],
   "source": [
    "10**np.linspace(-5.0,5.0,30)"
   ]
  },
  {
   "cell_type": "code",
   "execution_count": null,
   "metadata": {
    "collapsed": true
   },
   "outputs": [],
   "source": []
  }
 ],
 "metadata": {
  "kernelspec": {
   "display_name": "Python 2",
   "language": "python",
   "name": "python2"
  },
  "language_info": {
   "codemirror_mode": {
    "name": "ipython",
    "version": 2
   },
   "file_extension": ".py",
   "mimetype": "text/x-python",
   "name": "python",
   "nbconvert_exporter": "python",
   "pygments_lexer": "ipython2",
   "version": "2.7.12"
  }
 },
 "nbformat": 4,
 "nbformat_minor": 2
}
